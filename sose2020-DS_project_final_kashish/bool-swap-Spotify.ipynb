{
 "cells": [
  {
   "cell_type": "code",
   "execution_count": 11,
   "metadata": {},
   "outputs": [],
   "source": [
    "import pandas as pd"
   ]
  },
  {
   "cell_type": "code",
   "execution_count": 12,
   "metadata": {},
   "outputs": [],
   "source": [
    "df1 = pd.read_csv(\"/Users/kashishsharma/Desktop/working/spotify_spotify.csv\", header=0)"
   ]
  },
  {
   "cell_type": "code",
   "execution_count": 13,
   "metadata": {},
   "outputs": [
    {
     "name": "stdout",
     "output_type": "stream",
     "text": [
      "                      artist                track  peak_position  \\\n",
      "0                 The Weeknd      Blinding Lights              1   \n",
      "1                  SAINt JHN                Roses              4   \n",
      "2               Harry Styles     Watermelon Sugar              8   \n",
      "3                  Lil Mosey      Blueberry Faygo              9   \n",
      "4               Harry Styles            Adore You              6   \n",
      "...                      ...                  ...            ...   \n",
      "1061            Jason Aldean      They Don't Know             67   \n",
      "1062        Billy Currington  Do I Make You Wanna             47   \n",
      "1063  A Boogie Wit da Hoodie          No Promises             74   \n",
      "1064  A Boogie Wit da Hoodie               Say A'             75   \n",
      "1065                     BTS                  DNA             67   \n",
      "\n",
      "      peak_position_grouped  weeks_in_charts              spotify_id  \\\n",
      "0                         1               31  0VjIjW4GlUZAMYd2vXMi3b   \n",
      "1                         1               15  7fPuWrlpwDcHm5aHCH5D9t   \n",
      "2                         2               15  6UelLqGlWMcVH1E5c4H7lY   \n",
      "3                         2               21  6wJYhPfqk3KGhHRG76WzOh   \n",
      "4                         2               30  3jjujdWJ72nww5eGnfs2E7   \n",
      "...                     ...              ...                     ...   \n",
      "1061                     14               12  3bzE57iNavJJxXL9GgBiOK   \n",
      "1062                     10               19  3I7krC8kr0gFR7P6vInR1I   \n",
      "1063                     15                2  2BJpuAoDeQ1QuPvnryfAWK   \n",
      "1064                     15                2  3AMnOVxEHUgVrythGgqPhI   \n",
      "1065                     14                4  5SE57ljOIUJ1ybL9U6CuBH   \n",
      "\n",
      "      explicit  spotify_popularity  \n",
      "0        False                  99  \n",
      "1         True                  85  \n",
      "2        False                  94  \n",
      "3         True                  91  \n",
      "4        False                  88  \n",
      "...        ...                 ...  \n",
      "1061     False                  56  \n",
      "1062     False                  71  \n",
      "1063      True                  57  \n",
      "1064      True                  62  \n",
      "1065     False                  71  \n",
      "\n",
      "[1066 rows x 8 columns]\n"
     ]
    }
   ],
   "source": [
    "print(df1)"
   ]
  },
  {
   "cell_type": "code",
   "execution_count": 14,
   "metadata": {},
   "outputs": [],
   "source": [
    "df1.replace(False, 0, True,1)"
   ]
  },
  {
   "cell_type": "code",
   "execution_count": 15,
   "metadata": {},
   "outputs": [
    {
     "name": "stdout",
     "output_type": "stream",
     "text": [
      "<class 'pandas.core.frame.DataFrame'>\n",
      "RangeIndex: 1066 entries, 0 to 1065\n",
      "Data columns (total 8 columns):\n",
      "artist                   1066 non-null object\n",
      "track                    1066 non-null object\n",
      "peak_position            1066 non-null int64\n",
      "peak_position_grouped    1066 non-null int64\n",
      "weeks_in_charts          1066 non-null int64\n",
      "spotify_id               1066 non-null object\n",
      "explicit                 1066 non-null float64\n",
      "spotify_popularity       1066 non-null int64\n",
      "dtypes: float64(1), int64(4), object(3)\n",
      "memory usage: 66.8+ KB\n"
     ]
    }
   ],
   "source": [
    "df1.info()"
   ]
  },
  {
   "cell_type": "code",
   "execution_count": 16,
   "metadata": {},
   "outputs": [],
   "source": [
    "df1.to_csv(\"Swap-spotify.csv\", header = True)"
   ]
  }
 ],
 "metadata": {
  "kernelspec": {
   "display_name": "Python 3",
   "language": "python",
   "name": "python3"
  },
  "language_info": {
   "codemirror_mode": {
    "name": "ipython",
    "version": 3
   },
   "file_extension": ".py",
   "mimetype": "text/x-python",
   "name": "python",
   "nbconvert_exporter": "python",
   "pygments_lexer": "ipython3",
   "version": "3.7.7"
  }
 },
 "nbformat": 4,
 "nbformat_minor": 4
}
