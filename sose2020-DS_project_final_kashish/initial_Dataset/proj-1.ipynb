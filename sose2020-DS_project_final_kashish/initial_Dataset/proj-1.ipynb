{
 "cells": [
  {
   "cell_type": "code",
   "execution_count": 1,
   "metadata": {},
   "outputs": [],
   "source": [
    "import numpy as np\n",
    "import os\n",
    "import pandas as pd\n",
    "from sklearn import preprocessing"
   ]
  },
  {
   "cell_type": "markdown",
   "metadata": {},
   "source": [
    "# Import data 1960"
   ]
  },
  {
   "cell_type": "code",
   "execution_count": 2,
   "metadata": {},
   "outputs": [],
   "source": [
    "db60 = pd.read_csv(\"/Users/kashishsharma/Desktop/DM/DS/project/dataset music/dataset-of-60s copy.csv\")\n",
    "db60 = db60.drop(['track','artist','uri','chorus_hit', 'sections'],axis=1)"
   ]
  },
  {
   "cell_type": "markdown",
   "metadata": {},
   "source": [
    "# Scaling"
   ]
  },
  {
   "cell_type": "code",
   "execution_count": 3,
   "metadata": {
    "scrolled": true
   },
   "outputs": [],
   "source": [
    "loudness = db60[['loudness']].values\n",
    "min_max_scaler = preprocessing.MinMaxScaler()\n",
    "loudness_scaled = min_max_scaler.fit_transform(loudness)\n",
    "db60['loudness'] = pd.DataFrame(loudness_scaled)"
   ]
  },
  {
   "cell_type": "markdown",
   "metadata": {},
   "source": [
    " # Select the colums"
   ]
  },
  {
   "cell_type": "code",
   "execution_count": 4,
   "metadata": {
    "scrolled": true
   },
   "outputs": [],
   "source": [
    "col = db60.loc[1:4320 , \"danceability\":\"target\"] # for target = 0\n",
    "\n",
    "mean600 = col.mean(axis=0)\n",
    "\n",
    "col2 = db60.loc[4321: , \"danceability\":\"target\"] # for target = 1\n",
    "\n",
    "mean601 = col2.mean(axis=0)"
   ]
  },
  {
   "cell_type": "markdown",
   "metadata": {},
   "source": [
    "# 1970"
   ]
  },
  {
   "cell_type": "code",
   "execution_count": 5,
   "metadata": {},
   "outputs": [],
   "source": [
    "\n",
    "db70 = pd.read_csv(\"/Users/kashishsharma/Desktop/DM/DS/project/dataset music/dataset-of-70s copy.csv\")\n",
    "db70 = db70.drop(['track','artist','uri','chorus_hit', 'sections'],axis=1)\n",
    "\n",
    "loudness = db70[['loudness']].values\n",
    "min_max_scaler = preprocessing.MinMaxScaler()\n",
    "loudness_scaled = min_max_scaler.fit_transform(loudness)\n",
    "db70['loudness'] = pd.DataFrame(loudness_scaled)\n",
    "\n",
    "col = db70.loc[1:3882 , \"danceability\":\"target\"] # for target = 0\n",
    "\n",
    "mean700 = col.mean(axis=0)\n",
    "\n",
    "col2 = db70.loc[3883: , \"danceability\":\"target\"] # for target = 1\n",
    "\n",
    "mean701 = col2.mean(axis=0)"
   ]
  },
  {
   "cell_type": "markdown",
   "metadata": {},
   "source": [
    "# 1980"
   ]
  },
  {
   "cell_type": "code",
   "execution_count": 6,
   "metadata": {},
   "outputs": [],
   "source": [
    "\n",
    "db80 = pd.read_csv(\"/Users/kashishsharma/Desktop/DM/DS/project/dataset music/dataset-of-80s copy.csv\")\n",
    "db80 = db80.drop(['track','artist','uri','chorus_hit', 'sections'],axis=1)\n",
    "\n",
    "loudness = db80[['loudness']].values\n",
    "min_max_scaler = preprocessing.MinMaxScaler()\n",
    "loudness_scaled = min_max_scaler.fit_transform(loudness)\n",
    "db80['loudness'] = pd.DataFrame(loudness_scaled)\n",
    "\n",
    "col = db80.loc[1:3453 , \"danceability\":\"target\"] # for target = 0\n",
    "\n",
    "mean800 = col.mean(axis=0)\n",
    "\n",
    "col2 = db80.loc[3454: , \"danceability\":\"target\"] # for target = 1\n",
    "\n",
    "mean801 = col2.mean(axis=0)"
   ]
  },
  {
   "cell_type": "markdown",
   "metadata": {},
   "source": [
    "# 1990"
   ]
  },
  {
   "cell_type": "code",
   "execution_count": 7,
   "metadata": {},
   "outputs": [],
   "source": [
    "\n",
    "db90 = pd.read_csv(\"/Users/kashishsharma/Desktop/DM/DS/project/dataset music/dataset-of-90s copy.csv\")\n",
    "db90 = db90.drop(['track','artist','uri','chorus_hit', 'sections'],axis=1)\n",
    "\n",
    "loudness = db90[['loudness']].values\n",
    "min_max_scaler = preprocessing.MinMaxScaler()\n",
    "loudness_scaled = min_max_scaler.fit_transform(loudness)\n",
    "db90['loudness'] = pd.DataFrame(loudness_scaled)\n",
    "\n",
    "col = db90.loc[1:2759 , \"danceability\":\"target\"] # for target = 0\n",
    "\n",
    "mean900 = col.mean(axis=0)\n",
    "\n",
    "col2 = db90.loc[2761: , \"danceability\":\"target\"] # for target = 1\n",
    "\n",
    "mean901 = col2.mean(axis=0)"
   ]
  },
  {
   "cell_type": "markdown",
   "metadata": {},
   "source": [
    "# 2000"
   ]
  },
  {
   "cell_type": "code",
   "execution_count": 8,
   "metadata": {},
   "outputs": [],
   "source": [
    "\n",
    "db00 = pd.read_csv(\"/Users/kashishsharma/Desktop/DM/DS/project/dataset music/dataset-of-00s copy.csv\")\n",
    "db00 = db00.drop(['track','artist','uri','chorus_hit', 'sections'],axis=1)\n",
    "\n",
    "loudness = db00[['loudness']].values\n",
    "min_max_scaler = preprocessing.MinMaxScaler()\n",
    "loudness_scaled = min_max_scaler.fit_transform(loudness)\n",
    "db00['loudness'] = pd.DataFrame(loudness_scaled)\n",
    "\n",
    "col = db00.loc[1:2935 , \"danceability\":\"target\"] # for target = 0\n",
    "\n",
    "mean000 = col.mean(axis=0)\n",
    "\n",
    "col2 = db00.loc[2936: , \"danceability\":\"target\"] # for target = 1\n",
    "\n",
    "mean001 = col2.mean(axis=0)"
   ]
  },
  {
   "cell_type": "markdown",
   "metadata": {},
   "source": [
    "# 2010"
   ]
  },
  {
   "cell_type": "code",
   "execution_count": 9,
   "metadata": {},
   "outputs": [],
   "source": [
    "\n",
    "db10 = pd.read_csv(\"/Users/kashishsharma/Desktop/DM/DS/project/dataset music/dataset-of-10s copy.csv\")\n",
    "db10 = db10.drop(['track','artist','uri','chorus_hit', 'sections'],axis=1)\n",
    "\n",
    "loudness = db10[['loudness']].values\n",
    "min_max_scaler = preprocessing.MinMaxScaler()\n",
    "loudness_scaled = min_max_scaler.fit_transform(loudness)\n",
    "db10['loudness'] = pd.DataFrame(loudness_scaled)\n",
    "\n",
    "col = db10.loc[1:3198 , \"danceability\":\"target\"] # for target = 0\n",
    "\n",
    "mean100 = col.mean(axis=0)\n",
    "\n",
    "col2 = db10.loc[3199: , \"danceability\":\"target\"] # for target = 1\n",
    "\n",
    "mean101 = col2.mean(axis=0)"
   ]
  },
  {
   "cell_type": "markdown",
   "metadata": {},
   "source": [
    "# Stacking"
   ]
  },
  {
   "cell_type": "code",
   "execution_count": 10,
   "metadata": {},
   "outputs": [
    {
     "name": "stdout",
     "output_type": "stream",
     "text": [
      "                              0              1              2              3  \\\n",
      "danceability           0.453745       0.530582       0.480582       0.570370   \n",
      "energy                 0.379238       0.511152       0.471005       0.584880   \n",
      "key                    5.013426       5.140014       5.283101       5.134690   \n",
      "loudness               0.681469       0.758299       0.629142       0.685719   \n",
      "mode                   0.672222       0.838926       0.680319       0.763842   \n",
      "speechiness            0.075498       0.049316       0.070968       0.053141   \n",
      "acousticness           0.694480       0.536790       0.527478       0.341048   \n",
      "instrumentalness       0.249628       0.050243       0.276053       0.048343   \n",
      "liveness               0.207906       0.219162       0.206335       0.193293   \n",
      "valence                0.486430       0.663424       0.527082       0.664852   \n",
      "tempo                111.510104     118.742690     118.311226     119.704382   \n",
      "duration_ms       201592.069444  165681.836843  245975.191654  233918.058460   \n",
      "time_signature         3.791898       3.841240       3.827666       3.940252   \n",
      "target                 0.000000       1.000000       0.000000       1.000000   \n",
      "\n",
      "                              4              5              6              7  \\\n",
      "danceability           0.504071       0.624444       0.485002       0.648736   \n",
      "energy                 0.563126       0.653031       0.547034       0.657585   \n",
      "key                    5.176948       5.289519       5.076839       5.452338   \n",
      "loudness               0.706462       0.765806       0.775867       0.847045   \n",
      "mode                   0.666667       0.708454       0.678144       0.660747   \n",
      "speechiness            0.069183       0.046635       0.069854       0.078169   \n",
      "acousticness           0.381426       0.204579       0.412827       0.169370   \n",
      "instrumentalness       0.251359       0.028439       0.290061       0.029824   \n",
      "liveness               0.219440       0.182619       0.215065       0.179403   \n",
      "valence                0.518748       0.657061       0.493736       0.581716   \n",
      "tempo                119.436636     121.867801     119.875436     117.800804   \n",
      "duration_ms       252419.243556  257119.786335  248706.277637  263703.390359   \n",
      "time_signature         3.880683       3.971917       3.882204       3.962668   \n",
      "target                 0.000000       1.000000       0.000000       1.000000   \n",
      "\n",
      "                              8              9             10             11  \n",
      "danceability           0.455913       0.630049       0.494707       0.641633  \n",
      "energy                 0.674359       0.714608       0.653273       0.682367  \n",
      "key                    5.290971       5.260559       5.263602       5.303532  \n",
      "loudness               0.786226       0.859395       0.803183       0.876860  \n",
      "mode                   0.598978       0.691076       0.630394       0.660832  \n",
      "speechiness            0.086948       0.097785       0.088529       0.107524  \n",
      "acousticness           0.280835       0.148008       0.271497       0.162173  \n",
      "instrumentalness       0.293075       0.008858       0.324375       0.006057  \n",
      "liveness               0.208386       0.183907       0.207137       0.186298  \n",
      "valence                0.410771       0.553791       0.393700       0.493813  \n",
      "tempo                122.954703     120.283592     121.172439     123.524576  \n",
      "duration_ms       277457.387734  238862.943801  252929.529393  220502.664270  \n",
      "time_signature         3.857922       3.970027       3.883052       3.979056  \n",
      "target                 0.000000       1.000000       0.000000       1.000000  \n",
      "    danceability    energy       key  loudness      mode  speechiness  \\\n",
      "0       0.453745  0.379238  5.013426  0.681469  0.672222     0.075498   \n",
      "1       0.530582  0.511152  5.140014  0.758299  0.838926     0.049316   \n",
      "2       0.480582  0.471005  5.283101  0.629142  0.680319     0.070968   \n",
      "3       0.570370  0.584880  5.134690  0.685719  0.763842     0.053141   \n",
      "4       0.504071  0.563126  5.176948  0.706462  0.666667     0.069183   \n",
      "5       0.624444  0.653031  5.289519  0.765806  0.708454     0.046635   \n",
      "6       0.485002  0.547034  5.076839  0.775867  0.678144     0.069854   \n",
      "7       0.648736  0.657585  5.452338  0.847045  0.660747     0.078169   \n",
      "8       0.455913  0.674359  5.290971  0.786226  0.598978     0.086948   \n",
      "9       0.630049  0.714608  5.260559  0.859395  0.691076     0.097785   \n",
      "10      0.494707  0.653273  5.263602  0.803183  0.630394     0.088529   \n",
      "11      0.641633  0.682367  5.303532  0.876860  0.660832     0.107524   \n",
      "\n",
      "    acousticness  instrumentalness  liveness   valence       tempo  \\\n",
      "0       0.694480          0.249628  0.207906  0.486430  111.510104   \n",
      "1       0.536790          0.050243  0.219162  0.663424  118.742690   \n",
      "2       0.527478          0.276053  0.206335  0.527082  118.311226   \n",
      "3       0.341048          0.048343  0.193293  0.664852  119.704382   \n",
      "4       0.381426          0.251359  0.219440  0.518748  119.436636   \n",
      "5       0.204579          0.028439  0.182619  0.657061  121.867801   \n",
      "6       0.412827          0.290061  0.215065  0.493736  119.875436   \n",
      "7       0.169370          0.029824  0.179403  0.581716  117.800804   \n",
      "8       0.280835          0.293075  0.208386  0.410771  122.954703   \n",
      "9       0.148008          0.008858  0.183907  0.553791  120.283592   \n",
      "10      0.271497          0.324375  0.207137  0.393700  121.172439   \n",
      "11      0.162173          0.006057  0.186298  0.493813  123.524576   \n",
      "\n",
      "      duration_ms  time_signature  target  \n",
      "0   201592.069444        3.791898     0.0  \n",
      "1   165681.836843        3.841240     1.0  \n",
      "2   245975.191654        3.827666     0.0  \n",
      "3   233918.058460        3.940252     1.0  \n",
      "4   252419.243556        3.880683     0.0  \n",
      "5   257119.786335        3.971917     1.0  \n",
      "6   248706.277637        3.882204     0.0  \n",
      "7   263703.390359        3.962668     1.0  \n",
      "8   277457.387734        3.857922     0.0  \n",
      "9   238862.943801        3.970027     1.0  \n",
      "10  252929.529393        3.883052     0.0  \n",
      "11  220502.664270        3.979056     1.0  \n"
     ]
    }
   ],
   "source": [
    "horizontal_stack = pd.concat([mean600, mean601, mean700, mean701, mean800, mean801, mean900, mean901, mean000, mean001, mean100, mean101], axis=1)\n",
    "\n",
    "#print (horizontal_stack)\n",
    "\n",
    "horizontal_stack.to_csv (\"mean.csv\", header = True, mode = \"a\")\n",
    "\n",
    "df_transpose = horizontal_stack.T\n",
    "\n",
    "print(df_transpose)\n",
    "\n",
    "df_transpose.to_csv (\"mean.csv\", header = True, mode = \"a\")"
   ]
  }
 ],
 "metadata": {
  "kernelspec": {
   "display_name": "Python 3",
   "language": "python",
   "name": "python3"
  },
  "language_info": {
   "codemirror_mode": {
    "name": "ipython",
    "version": 3
   },
   "file_extension": ".py",
   "mimetype": "text/x-python",
   "name": "python",
   "nbconvert_exporter": "python",
   "pygments_lexer": "ipython3",
   "version": "3.7.7"
  }
 },
 "nbformat": 4,
 "nbformat_minor": 2
}
